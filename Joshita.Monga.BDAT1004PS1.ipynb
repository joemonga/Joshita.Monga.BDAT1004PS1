{
 "cells": [
  {
   "cell_type": "markdown",
   "id": "71b3896c",
   "metadata": {},
   "source": [
    "# Question1: What data type is each of the following (evaluate where necessary)?"
   ]
  },
  {
   "cell_type": "markdown",
   "id": "e9fe1994",
   "metadata": {},
   "source": [
    "5               - Integer \n",
    "5.0             - Float\n",
    "5 > 1           - Boolean\n",
    "'5'             - Character \n",
    "5 * 2           - Integer\n",
    "'5' * 2         - String\n",
    "'5' + '2'       - String\n",
    "5 / 2           - Float\n",
    "5 % 2           - Integer\n",
    "{5, 2, 1}       - Set\n",
    "5 == 3          - Boolean\n",
    "Pi (the number) - Double"
   ]
  },
  {
   "cell_type": "markdown",
   "id": "985a6920",
   "metadata": {},
   "source": [
    "# Question2: Write (and evaluate) python expressions that answer these questions:"
   ]
  },
  {
   "cell_type": "markdown",
   "id": "a03f914b",
   "metadata": {},
   "source": [
    "# a. How many letters are there in 'Supercalifragilisticexpialidocious'?"
   ]
  },
  {
   "cell_type": "code",
   "execution_count": 1,
   "id": "f159042c",
   "metadata": {},
   "outputs": [
    {
     "name": "stdout",
     "output_type": "stream",
     "text": [
      "34\n"
     ]
    }
   ],
   "source": [
    "x='Supercalifragilisticexpialidocious'\n",
    "print(len(x))"
   ]
  },
  {
   "cell_type": "markdown",
   "id": "d4a1a5fe",
   "metadata": {},
   "source": [
    "# b. Does 'Supercalifragilisticexpialidocious' contain 'ice' as a substring?"
   ]
  },
  {
   "cell_type": "code",
   "execution_count": 2,
   "id": "0a0e0530",
   "metadata": {},
   "outputs": [
    {
     "name": "stdout",
     "output_type": "stream",
     "text": [
      "Found\n"
     ]
    }
   ],
   "source": [
    "completestring = \"Supercalifragilisticexpialidocious\"\n",
    "substring  = \"ice\"\n",
    "\n",
    "if substring in completestring:\n",
    "    print(\"Found\")\n",
    "else:\n",
    "    print (\"Not Found\")"
   ]
  },
  {
   "cell_type": "markdown",
   "id": "89339b07",
   "metadata": {},
   "source": [
    "# c. Which of the following words is the longest:Supercalifragilisticexpialidocious, Honorificabilitudinitatibus, or Bababadalgharaghtakamminarronnkonn? "
   ]
  },
  {
   "cell_type": "code",
   "execution_count": 4,
   "id": "d0e8e9d5",
   "metadata": {},
   "outputs": [
    {
     "name": "stdout",
     "output_type": "stream",
     "text": [
      "Supercalifragilisticexpialidocious and Bababadalgharaghtakamminarronnkonn are longest\n"
     ]
    }
   ],
   "source": [
    "string1 = \"Supercalifragilisticexpialidocious\"\n",
    "string2 = \"Honorificabilitudinitatibus\"\n",
    "string3 = \"Bababadalgharaghtakamminarronnkonn\"\n",
    "   \n",
    "i = len(string1)\n",
    "j = len(string2)\n",
    "k = len(string3)\n",
    "    \n",
    "if(i>j) and (i>k):\n",
    "    print(string1, 'is the longest')\n",
    "elif (j>i) and (j>k):\n",
    "    print(string2, 'is the longest')\n",
    "elif (k>i) and (k>j):\n",
    "    print(string3, 'is the longest')\n",
    "elif (i==j):\n",
    "    print(string1, 'and', string2, 'are longest')\n",
    "elif (i==k):\n",
    "    print(string1, 'and', string3, 'are longest')\n",
    "elif (j==k):\n",
    "    print(string2, 'and', string3, 'are longest')\n",
    "else:\n",
    "    print(\"All are equal and longest\")\n",
    "    \n",
    "    \n",
    "    "
   ]
  },
  {
   "cell_type": "markdown",
   "id": "35dea16a",
   "metadata": {},
   "source": [
    "# d. Which composer comes first in the dictionary: 'Berlioz', 'Borodin', 'Brian','Bartok', 'Bellini', 'Buxtehude', 'Bernstein'. Which one comes last?\n"
   ]
  },
  {
   "cell_type": "code",
   "execution_count": 5,
   "id": "f620b5fb",
   "metadata": {},
   "outputs": [
    {
     "name": "stdout",
     "output_type": "stream",
     "text": [
      "Bartok First in dictionary\n",
      "Buxtehude Last in dictionary\n"
     ]
    }
   ],
   "source": [
    "words=['Berlioz', 'Borodin', 'Brian', 'Bartok', 'Bellini', 'Buxtehude', 'Bernstein']\n",
    "words.sort()\n",
    "print(words[0], 'First in dictionary')\n",
    "print(words[6], 'Last in dictionary')"
   ]
  },
  {
   "cell_type": "markdown",
   "id": "91488bf1",
   "metadata": {},
   "source": [
    "# Question 3: Implement function triangleArea(a,b,c) that takes as input the lengths of the 3 sides of a triangle and returns the area of the triangle. By Heron's formula, the area of a triangle with side lengths a, b, and c is s(s - a)(s -b)(s -c), where s = (a+b+c)/2."
   ]
  },
  {
   "cell_type": "code",
   "execution_count": 6,
   "id": "5b9ac22c",
   "metadata": {},
   "outputs": [
    {
     "name": "stdout",
     "output_type": "stream",
     "text": [
      "Enter side a :2\n",
      "2.0\n",
      "Enter side b :2\n",
      "2.0\n",
      "Enter side c :2\n",
      "2.0\n",
      "area of triangle 1.7320508075688772\n"
     ]
    }
   ],
   "source": [
    "import math\n",
    "a = float(input (\"Enter side a :\"))\n",
    "print(a)\n",
    "b = float(input (\"Enter side b :\"))\n",
    "print(b)\n",
    "c = float(input (\"Enter side c :\"))\n",
    "print(c)\n",
    "s= (a + b + c) // 2\n",
    "area = math.sqrt(s * (s - a) * (s - b) * (s - c))\n",
    "print(\"area of triangle\",area)\n"
   ]
  },
  {
   "cell_type": "markdown",
   "id": "2a92ee39",
   "metadata": {},
   "source": [
    "# Question 4: Write a program in python to separate odd and even integers in separate arrays."
   ]
  },
  {
   "cell_type": "code",
   "execution_count": 10,
   "id": "8b012126",
   "metadata": {},
   "outputs": [
    {
     "name": "stdout",
     "output_type": "stream",
     "text": [
      "Number of elements in the list :- 5\n",
      "Enter the Value of 1 Element :- 25\n",
      "Enter the Value of 2 Element :- 47\n",
      "Enter the Value of 3 Element :- 42\n",
      "Enter the Value of 4 Element :- 56\n",
      "Enter the Value of 5 Element :- 32\n",
      "\n",
      " Element in Even List is :  [42, 56, 32]\n",
      "\n",
      " Element in Odd List is :  [25, 47]\n"
     ]
    }
   ],
   "source": [
    "Numlist= []\n",
    "Even = []\n",
    "Odd = []\n",
    " \n",
    "Number = int(input(\"Number of elements in the list :- \"))\n",
    " \n",
    "for i in range(1, Number + 1):\n",
    "    value = int(input(\"Enter the Value of %d Element :- \" %i))\n",
    "    Numlist.append(value)\n",
    " \n",
    "for j in range(Number):\n",
    "    if(Numlist[j] % 2 == 0):\n",
    "        Even.append(Numlist[j])\n",
    "    else:\n",
    "        Odd.append(Numlist[j])\n",
    " \n",
    "print(\"\\n Element in Even List is : \", Even)\n",
    "print(\"\\n Element in Odd List is : \", Odd)"
   ]
  },
  {
   "cell_type": "markdown",
   "id": "8138b238",
   "metadata": {},
   "source": [
    "# Question 5:\n",
    "## a. Write a function inside(x,y,x1,y1,x2,y2) that returns True or False depending on whether the point (x,y) lies in the rectangle with lower left corner (x1,y1) and upper right corner (x2,y2)."
   ]
  },
  {
   "cell_type": "code",
   "execution_count": 18,
   "id": "de63b8c3",
   "metadata": {},
   "outputs": [
    {
     "name": "stdout",
     "output_type": "stream",
     "text": [
      "1\n",
      "1\n",
      "2\n",
      "3\n",
      "0\n",
      "0\n",
      "True\n"
     ]
    }
   ],
   "source": [
    "def FindPoint(x, y, x1, y1, x2, y2) :\n",
    "    if (x2 > x1 and x2 < x and\n",
    "        y2 > y1 and y2 < y) :\n",
    "        return True\n",
    "    else :\n",
    "        return False\n",
    " \n",
    "\n",
    " \n",
    "    # bottom-left and top-right\n",
    "    # corners of rectangle.\n",
    "    # use multiple assignment\n",
    "x=int(input())\n",
    "y=int(input())\n",
    "x1=int(input())\n",
    "y1=int(input())\n",
    "x2=int(input())\n",
    "y2=int(input())\n",
    "FindPoint(x, y, x1, y1, x2, y2) \n",
    "print(FindPoint(x1, y1, x2, y2, x, y))"
   ]
  },
  {
   "cell_type": "markdown",
   "id": "d42334d9",
   "metadata": {},
   "source": [
    "# b. Use function inside() from part a. to write an expression that tests whether the point (1,1) lies in both of the following rectangles: one with lower left corner (0.3, 0.5) and upper right corner (1.1, 0.7) and the other with lower left corner (0.5, 0.2) and upper right corner (1.1, 2)"
   ]
  },
  {
   "cell_type": "code",
   "execution_count": 19,
   "id": "1ef497fb",
   "metadata": {},
   "outputs": [
    {
     "name": "stdout",
     "output_type": "stream",
     "text": [
      "1\n",
      "1\n",
      "0.3\n",
      "0.5\n",
      "1.1\n",
      "0.7\n",
      "False\n"
     ]
    }
   ],
   "source": [
    "def FindPoint(x, y, x1,y1, x2, y2) :\n",
    "    if (x2 > x1 and x2 < x and y2 > y1 and y2 < y) :\n",
    "        return True\n",
    "    else :\n",
    "        return False\n",
    "x=float(input())\n",
    "y=float(input())\n",
    "x1=float(input())\n",
    "y1=float(input())\n",
    "x2=float(input())\n",
    "y2=float(input())\n",
    "FindPoint(x, y, x1, y1, x2, y2) \n",
    "print(FindPoint(x1, y1, x2, y2, x, y))"
   ]
  },
  {
   "cell_type": "markdown",
   "id": "538b09b6",
   "metadata": {},
   "source": [
    "# Question 6: Write a function pig() that takes a word (i.e., a string) as input and returns its pigLatin form. Your function should still work if the input word contains upper case characters. Your output should always be lower case however. "
   ]
  },
  {
   "cell_type": "code",
   "execution_count": 22,
   "id": "75319774",
   "metadata": {},
   "outputs": [
    {
     "name": "stdout",
     "output_type": "stream",
     "text": [
      "appyhay\n",
      "enterway\n"
     ]
    }
   ],
   "source": [
    "def pig(sentance):\n",
    "    sentance = str.lower(sentance);\n",
    "    vowel = \"a e i o u\"\n",
    "    \n",
    "    if (sentance[0] in vowel):\n",
    "        sentance = sentance + \"way\"\n",
    "        \n",
    "    else:\n",
    "        field_1 = sentance[0]\n",
    "        sentance = sentance[1:]\n",
    "        sentance = sentance + field_1 + \"ay\"\n",
    "    print(sentance);\n",
    "\n",
    "\n",
    "pig(\"happy\")\n",
    "pig(\"Enter\")"
   ]
  },
  {
   "cell_type": "markdown",
   "id": "a347a235",
   "metadata": {},
   "source": [
    "# Question7: File bloodtype1.txt records blood-types of patients (A, B, AB, O or OO) at a clinic. Write a function bldcount() that reads the file with name name and reports (i.e., prints) how many patients there are in each bloodtype."
   ]
  },
  {
   "cell_type": "code",
   "execution_count": 28,
   "id": "83124c65",
   "metadata": {},
   "outputs": [
    {
     "name": "stdout",
     "output_type": "stream",
     "text": [
      "There are  15 patients of blood type A\n",
      "There are  13 patients of blood type AB\n",
      "There are  1 patients of blood type B\n",
      "There are  15 patients of blood type O\n",
      "There are  0 patients of blood type OO\n"
     ]
    }
   ],
   "source": [
    "file = open(\"bloodtype.rtf\",\"r\")\n",
    "bloodType = file.read().split(\" \")\n",
    "a = 0\n",
    "ab = 0\n",
    "b = 0\n",
    "o = 0\n",
    "oo = 0\n",
    "\n",
    "for bg in bloodType:\n",
    "    if bg == \"A\":\n",
    "        a += 1\n",
    "    elif bg == \"AB\":\n",
    "        ab += 1\n",
    "    elif bg == \"B\":\n",
    "        b += 1  \n",
    "    elif bg == \"O\":\n",
    "        o += 1\n",
    "    elif bg == \"OO\":\n",
    "        oo += 1 \n",
    "    elif bg == \"\\n\":\n",
    "        break\n",
    "\n",
    "\n",
    "print(\"There are \", a ,  \"patients of blood type A\" )\n",
    "print(\"There are \", ab , \"patients of blood type AB\" )\n",
    "print(\"There are \", b ,  \"patients of blood type B\" )\n",
    "print(\"There are \", o ,  \"patients of blood type O\" )\n",
    "print(\"There are \", oo , \"patients of blood type OO\" )"
   ]
  },
  {
   "cell_type": "markdown",
   "id": "e33ee2e0",
   "metadata": {},
   "source": [
    "# Question 8: Write a function curconv() that takes as input:\n",
    "## 1. a currency represented using a string (e.g., 'JPY' for the Japanese Yen or 'EUR' for the Euro) \n",
    "## 2. an amount and then converts and returns the amount in US dollars.\n"
   ]
  },
  {
   "cell_type": "code",
   "execution_count": 39,
   "id": "9755479c",
   "metadata": {},
   "outputs": [
    {
     "name": "stdout",
     "output_type": "stream",
     "text": [
      "122.96544\n",
      "1.241401\n"
     ]
    }
   ],
   "source": [
    "def curconv(currency,amount):\n",
    "    file = open(\"currencies.rtf\",\"r\")\n",
    "    fileRead = file.readlines()\n",
    "    file.close()\n",
    "    for file in fileRead :\n",
    "        group = file.split()\n",
    "        if currency == group[0]:\n",
    "            rate = float(group[1])\n",
    "            value = amount * rate\n",
    "        \n",
    "    print(value)   \n",
    "        \n",
    "curconv('EUR',100)\n",
    "curconv('JPY',100)"
   ]
  },
  {
   "cell_type": "markdown",
   "id": "56fe3186",
   "metadata": {},
   "source": [
    "# Question9: Each of the following will cause an exception (an error). Identify what type of exception each will cause."
   ]
  },
  {
   "cell_type": "markdown",
   "id": "6878a037",
   "metadata": {},
   "source": [
    "Trying to add incompatible variables, as in adding 6 + ‘a’ - TypeError\n",
    "\n",
    "Referring to the 12th item of a list that has only 10 items - IndexError\n",
    "\n",
    "Using a value that is out of range for a function’s input, such as calling math.sqrt(-1.0) - ValueError\n",
    "\n",
    "Using an undeclared variable, such as print(x) when x has not been defined - NameError\n",
    "\n",
    "Trying to open a file that does not exist, such as mistyping the file name or looking in the wrong directory. - FileNotFoundError"
   ]
  },
  {
   "cell_type": "markdown",
   "id": "d5596535",
   "metadata": {},
   "source": [
    "# Question10: Assume that the string letters is already defined as 'abcdefghijklmnopqrstuvwxyz'. Write a function called frequencies() that takes a string as its only parameter, and returns a list of integers, showing the number of times each character appears in the text. Your function may ignore any characters that are not in letters."
   ]
  },
  {
   "cell_type": "code",
   "execution_count": 33,
   "id": "436abd2b",
   "metadata": {},
   "outputs": [
    {
     "name": "stdout",
     "output_type": "stream",
     "text": [
      "[1, 0, 1, 2, 4, 0, 0, 0, 1, 0, 0, 1, 0, 2, 2, 2, 0, 1, 1, 1, 0, 1, 1, 0, 0, 0]\n",
      "[1, 0, 0, 0, 1, 0, 0, 0, 0, 0, 0, 1, 0, 0, 0, 2, 0, 0, 0, 0, 0, 0, 0, 0, 0, 0]\n"
     ]
    }
   ],
   "source": [
    "def frequencies(strr):\n",
    "    letters = \"abcdefghijklmnopqrstuvwxyz\" \n",
    "    #arr = [0,0,0,0,0,0,0,0,0,0,0,0,0,0,0,0,0,0,0,0,0,0,0,0,0,0]\n",
    "    arr = [0] * 26\n",
    "    strr = strr.lower()\n",
    "    \n",
    "    for i in range(len(strr)):\n",
    "        for j in range(len(letters)):\n",
    "            if(strr[i] == letters[j]):\n",
    "                arr[j] = arr[j] + 1\n",
    "            j = j + 1\n",
    "        i = i + 1\n",
    "    print(arr)\n",
    "                \n",
    "frequencies(\"Newton discovered apple\")\n",
    "frequencies(\"apple\")"
   ]
  },
  {
   "cell_type": "code",
   "execution_count": null,
   "id": "d035d9a2",
   "metadata": {},
   "outputs": [],
   "source": []
  }
 ],
 "metadata": {
  "kernelspec": {
   "display_name": "Python 3 (ipykernel)",
   "language": "python",
   "name": "python3"
  },
  "language_info": {
   "codemirror_mode": {
    "name": "ipython",
    "version": 3
   },
   "file_extension": ".py",
   "mimetype": "text/x-python",
   "name": "python",
   "nbconvert_exporter": "python",
   "pygments_lexer": "ipython3",
   "version": "3.9.12"
  }
 },
 "nbformat": 4,
 "nbformat_minor": 5
}
